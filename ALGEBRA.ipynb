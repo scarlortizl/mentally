{
  "nbformat": 4,
  "nbformat_minor": 0,
  "metadata": {
    "colab": {
      "provenance": [],
      "name": "ALGEBRA.ipynb",
      "authorship_tag": "ABX9TyNGEHjRKUQhqtrSqfeSY6ln",
      "include_colab_link": true
    },
    "kernelspec": {
      "name": "python3",
      "display_name": "Python 3"
    },
    "language_info": {
      "name": "python"
    }
  },
  "cells": [
    {
      "cell_type": "markdown",
      "metadata": {
        "id": "view-in-github",
        "colab_type": "text"
      },
      "source": [
        "<a href=\"https://colab.research.google.com/github/scarlortizl/mentally/blob/main/ALGEBRA.ipynb\" target=\"_parent\"><img src=\"https://colab.research.google.com/assets/colab-badge.svg\" alt=\"Open In Colab\"/></a>"
      ]
    },
    {
      "cell_type": "code",
      "execution_count": null,
      "metadata": {
        "id": "t3piXsg3b2em"
      },
      "outputs": [],
      "source": [
        "import matplotlib.pyplot as plt\n",
        "import numpy as np\n",
        "\n",
        "# Función de reflexión respecto al eje Y\n",
        "def reflect_y(points):\n",
        "    return np.array([[-x, y] for x, y in points])\n",
        "\n",
        "# Función de rotación en sentido antihorario\n",
        "def rotate(points, angle):\n",
        "    rotation_matrix = np.array([[np.cos(angle), -np.sin(angle)], [np.sin(angle), np.cos(angle)]])\n",
        "    return np.dot(points, rotation_matrix)\n",
        "\n",
        "# Función para dibujar puntos\n",
        "def plot_points(points, color, label):\n",
        "    plt.scatter(points[:, 0], points[:, 1], c=color, label=label)\n",
        "    plt.axhline(0, color='black',linewidth=0.5)\n",
        "    plt.axvline(0, color='black',linewidth=0.5)\n",
        "    plt.grid(color = 'gray', linestyle = '--', linewidth = 0.5)\n",
        "\n",
        "# Obtener puntos del usuario\n",
        "num_points = int(input(\"Ingrese el número de puntos: \"))\n",
        "points = []\n",
        "for i in range(num_points):\n",
        "    x = float(input(f\"Ingrese la coordenada x del punto {i + 1}: \"))\n",
        "    y = float(input(f\"Ingrese la coordenada y del punto {i + 1}: \"))\n",
        "    points.append([x, y])\n",
        "\n",
        "points = np.array(points)\n",
        "\n",
        "# Aplicar reflexión y rotación\n",
        "reflected_points = reflect_y(points)\n",
        "rotated_points = rotate(points, np.radians(45))  # Rotación de 45 grados\n",
        "\n",
        "# Graficar resultados\n",
        "plt.figure(figsize=(8, 8))\n",
        "\n",
        "plot_points(points, 'red', 'Original')\n",
        "plot_points(reflected_points, 'green', 'Reflexión respecto al eje Y')\n",
        "plot_points(rotated_points, 'blue', 'Rotación 45°')\n",
        "\n",
        "plt.legend()\n",
        "plt.title('Transformaciones Lineales en el Plano')\n",
        "plt.show()\n"
      ]
    }
  ]
}